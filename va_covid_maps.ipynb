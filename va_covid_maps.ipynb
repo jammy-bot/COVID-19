{
  "nbformat": 4,
  "nbformat_minor": 0,
  "metadata": {
    "colab": {
      "name": "va-covid-maps.ipynb",
      "provenance": [],
      "collapsed_sections": [],
      "authorship_tag": "ABX9TyPndemBC7JKh3gBxV2SD5Cg"
    },
    "kernelspec": {
      "name": "python3",
      "display_name": "Python 3"
    }
  },
  "cells": [
    {
      "cell_type": "markdown",
      "metadata": {
        "id": "hpPrQXB8tS2X",
        "colab_type": "text"
      },
      "source": [
        "# Overview"
      ]
    },
    {
      "cell_type": "markdown",
      "metadata": {
        "id": "xAkafZOnt5o0",
        "colab_type": "text"
      },
      "source": [
        "In notebooks at the [va-covid-eda](https://github.com/jammy-bot/va-covid-eda) github repository, we explore how cases of Coronavirus, consequent hospitalizations, and related deaths in Virginia's Hampton Roads region compare to those reported in other areas of the state, including the state's capital city of Richmond. We relied on interactive plotting with Plotly Express, to visualize data for multiple localities (including population data) on a single figure, with the option to hover or drill - down for greater detail (link to [Featured Notebooks](https://github.com/jammy-bot/va-covid-eda#featured-notebooks)).\n",
        "\n",
        "Animated plots used in our previous notebooks enable us to quickly make visual comparisons across multiple localities, over time. Even the few static plots we include clearly indicate that the Fairfax area was impacted more severely than other localities, in raw numbers as well as by per 1,000 of locality population. However, the plots do not easily reference some factors likely influencing the spread of the virus. They do not show us that Fairfax borders Washington, D.C., or that Virginia Beach (in Hampton Roads) is a regional tourist destination. This type of information might be better communicated, at a glance, by incorporating relevant maps images into our visualizations. That is what we will do in this current exploration.\n",
        "\n",
        "We will recall datasets from our previous exploration and stay within the same timeframe, for the sake of consistency. We also want to maintain a level interactive publishing ability, comparative to that which--by using the Plotly Express and Datapane libraries on Deepnote-- we previously attained ."
      ]
    },
    {
      "cell_type": "markdown",
      "metadata": {
        "id": "rdJUQ7RF8X9P",
        "colab_type": "text"
      },
      "source": [
        "# Import Libraries"
      ]
    },
    {
      "cell_type": "code",
      "metadata": {
        "id": "_he-LUqp8c4e",
        "colab_type": "code",
        "colab": {
          "base_uri": "https://localhost:8080/",
          "height": 35
        },
        "outputId": "c825e144-f6ad-4942-b5a9-939a0ac95129"
      },
      "source": [
        "import os           # for directory / path operations\n",
        "import pandas as pd\n",
        "import numpy as np\n",
        "import pickle       # for working with serialized files\n",
        "import matplotlib.pyplot as plt\n",
        "%matplotlib inline\n",
        "\n",
        "# loading python's `autoreload`, to update any module changes\n",
        "%load_ext autoreload\n",
        "\n",
        "# turning on `autoreload`\n",
        "%autoreload 2\n",
        "\n",
        "# viewing the current working directory\n",
        "os.getcwd()"
      ],
      "execution_count": 1,
      "outputs": [
        {
          "output_type": "execute_result",
          "data": {
            "application/vnd.google.colaboratory.intrinsic+json": {
              "type": "string"
            },
            "text/plain": [
              "'/content'"
            ]
          },
          "metadata": {
            "tags": []
          },
          "execution_count": 1
        }
      ]
    },
    {
      "cell_type": "markdown",
      "metadata": {
        "id": "L8-Yl5NVfwXv",
        "colab_type": "text"
      },
      "source": [
        "Create subdirectories."
      ]
    },
    {
      "cell_type": "code",
      "metadata": {
        "id": "mVFr4Ukyf3mL",
        "colab_type": "code",
        "colab": {
          "base_uri": "https://localhost:8080/",
          "height": 85
        },
        "outputId": "f966f6a3-a32d-4edd-9dfe-4a9ecb7033b9"
      },
      "source": [
        "# creating a `data` directory, if it does not exist\n",
        "if not os.path.exists('data'):\n",
        "    os.mkdir('data')\n",
        "\n",
        "print(\"-\"*15, f\"pickles directory created\", \"-\"*15)\n",
        "# creating a directory for saving datapane report objects\n",
        "if not os.path.exists('reports/'):\n",
        "    os.mkdir('reports/')\n",
        "\n",
        "print(\"-\"*15, f\"reports directory created\", \"-\"*15)\n",
        "\n",
        "# creating a `helpers` directory, if it does not exist\n",
        "if not os.path.exists('helpers'):\n",
        "    os.mkdir('helpers')\n",
        "\n",
        "print(\"-\"*15, f\"helpers directory created\", \"-\"*15)\n",
        "\n",
        "# creating a `pickles` directory, if it does not exist\n",
        "if not os.path.exists('pickles'):\n",
        "    os.mkdir('pickles')\n",
        "\n",
        "print(\"-\"*15, f\"pickles directory created\", \"-\"*15)\n"
      ],
      "execution_count": 3,
      "outputs": [
        {
          "output_type": "stream",
          "text": [
            "--------------- pickles directory created ---------------\n",
            "--------------- reports directory created ---------------\n",
            "--------------- helpers directory created ---------------\n",
            "--------------- pickles directory created ---------------\n"
          ],
          "name": "stdout"
        }
      ]
    },
    {
      "cell_type": "markdown",
      "metadata": {
        "id": "jAOtMyYUdUaJ",
        "colab_type": "text"
      },
      "source": [
        "We will bring in data and modules, from the previous repository."
      ]
    },
    {
      "cell_type": "code",
      "metadata": {
        "id": "AtJodO4Wdhvb",
        "colab_type": "code",
        "colab": {}
      },
      "source": [
        ""
      ],
      "execution_count": null,
      "outputs": []
    },
    {
      "cell_type": "markdown",
      "metadata": {
        "id": "rTcNxgNqtgU6",
        "colab_type": "text"
      },
      "source": [
        "# Data"
      ]
    },
    {
      "cell_type": "markdown",
      "metadata": {
        "id": "UYRxBM1Pt62Z",
        "colab_type": "text"
      },
      "source": [
        ""
      ]
    },
    {
      "cell_type": "code",
      "metadata": {
        "id": "4mANHcL7tObm",
        "colab_type": "code",
        "colab": {}
      },
      "source": [
        ""
      ],
      "execution_count": null,
      "outputs": []
    },
    {
      "cell_type": "markdown",
      "metadata": {
        "id": "YkLwl-h-tkkN",
        "colab_type": "text"
      },
      "source": [
        "# Exploration"
      ]
    },
    {
      "cell_type": "markdown",
      "metadata": {
        "id": "EV5yJWTSt8F_",
        "colab_type": "text"
      },
      "source": [
        ""
      ]
    },
    {
      "cell_type": "code",
      "metadata": {
        "id": "2OPzMjs_uCBL",
        "colab_type": "code",
        "colab": {}
      },
      "source": [
        ""
      ],
      "execution_count": null,
      "outputs": []
    },
    {
      "cell_type": "markdown",
      "metadata": {
        "id": "OOxIexAAtp9y",
        "colab_type": "text"
      },
      "source": [
        "# Conclusions"
      ]
    },
    {
      "cell_type": "markdown",
      "metadata": {
        "id": "INUM1psht9SV",
        "colab_type": "text"
      },
      "source": [
        ""
      ]
    },
    {
      "cell_type": "code",
      "metadata": {
        "id": "XvMfEow7uDCK",
        "colab_type": "code",
        "colab": {}
      },
      "source": [
        ""
      ],
      "execution_count": null,
      "outputs": []
    }
  ]
}